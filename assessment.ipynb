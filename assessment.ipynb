{
 "cells": [
  {
   "cell_type": "markdown",
   "metadata": {},
   "source": [
    "# Objectives\n",
    "YW\n",
    "* scrape a website for relevant information, store that information to a dataframe and save that dataframe as a csv file\n",
    "* load in a dataframe and do the following\n",
    "    * calculate the zscores of a given column\n",
    "    * calculate the zscores of a point from a given column in the dataframe\n",
    "    * calculate and plot the pmf and cdf of another column"
   ]
  },
  {
   "cell_type": "markdown",
   "metadata": {},
   "source": [
    "# Part 1 - Webscraping\n",
    "* use the following url scrape the first page of results\n",
    "* for each item get the name of the item\n",
    "* store the names to a dataframe and save that dataframe to csv then display\n",
    "    * store the dataframe in the `data` folder in the repo\n",
    "    * name the file `part1.csv` and make sure that when you write it you set `index=False`\n",
    "* the head of the dataframe\n",
    "\n",
    "* it should match the following\n",
    "<img src=\"solutions/images/part1.png\"/>"
   ]
  },
  {
   "cell_type": "code",
   "execution_count": 2,
   "metadata": {},
   "outputs": [],
   "source": [
    "import pandas as pd\n",
    "import numpy as np\n",
    "import seaborn as sns\n",
    "import matplotlib.pyplot as plt\n",
    "\n",
    "from bs4 import BeautifulSoup\n",
    "import requests\n",
    "\n",
    "import scipy.stats as stats"
   ]
  },
  {
   "cell_type": "code",
   "execution_count": 3,
   "metadata": {},
   "outputs": [],
   "source": [
    "url = \"https://www.petsmart.com/dog/treats/dental-treats/#page_name=flyout&category=dog&cta=dentaltreat\""
   ]
  },
  {
   "cell_type": "code",
   "execution_count": 6,
   "metadata": {},
   "outputs": [],
   "source": [
    "html_page = requests.get(url) #Make a request to retrieve the page\n",
    "soup = BeautifulSoup(html_page.content, 'html.parser') #Pass the page contents to beautiful soup for parsing"
   ]
  },
  {
   "cell_type": "code",
   "execution_count": 51,
   "metadata": {
    "scrolled": false
   },
   "outputs": [],
   "source": [
    "save20 = soup.find('div', attrs={'class':\"search-result-content\"})\n"
   ]
  },
  {
   "cell_type": "code",
   "execution_count": 33,
   "metadata": {},
   "outputs": [
    {
     "data": {
      "text/plain": [
       "36"
      ]
     },
     "execution_count": 33,
     "metadata": {},
     "output_type": "execute_result"
    }
   ],
   "source": [
    "save20_res = save20.find_all('li', attrs={'class': 'grid-tile col-md-4 col-sm-12'})\n",
    "len(save20_res)"
   ]
  },
  {
   "cell_type": "code",
   "execution_count": 34,
   "metadata": {},
   "outputs": [
    {
     "data": {
      "text/plain": [
       "'Greenies Regular Dental Dog Treats'"
      ]
     },
     "execution_count": 34,
     "metadata": {},
     "output_type": "execute_result"
    }
   ],
   "source": [
    "#Grab 1 Treat Name to verify that code is grabbing the correct item\n",
    "names = save20_res[0]\n",
    "name1 = names.find('div', attrs={'class': 'product-name'})\n",
    "treats = name1.find('h3', attrs={}).text\n",
    "treats"
   ]
  },
  {
   "cell_type": "code",
   "execution_count": 40,
   "metadata": {
    "scrolled": false
   },
   "outputs": [
    {
     "data": {
      "text/plain": [
       "['Greenies Regular Dental Dog Treats',\n",
       " 'Greenies Petite Dental Dog Treats',\n",
       " 'Greenies Large Dental Dog Treats',\n",
       " 'Pedigree Dentastix Large Dog Treats',\n",
       " 'Greenies 6 Month+ Puppy Petite Dental Dog Treats',\n",
       " 'Greenies 6 Month+ Puppy Dental Dog Treats',\n",
       " 'Greenies 6 Month+ Puppy Teenie Dental Dog Treats',\n",
       " 'Greenies Teenie Dental Dog Treats',\n",
       " 'Authority® Dental & DHA Stick Puppy Treats Parsley Mint - Gluten Free, Grain Free',\n",
       " 'Pedigree Dentastix Large Dog Sticks',\n",
       " 'Milk-Bone Brushing Chews Large Dental Dog Treats',\n",
       " 'Pedigree Dentastix Triple Action Dental Dog Treats - Variety Pack',\n",
       " 'Pedigree Dentastix Small/Medium Dog Sticks',\n",
       " 'WHIMZEES Variety Value Box Dental Dog Treat - Natural, Grain Free',\n",
       " 'Pedigree Dentastix Mini Dog Sticks',\n",
       " 'Virbac® C.E.T.® VeggieDent® Tartar Control Dog Chews',\n",
       " 'Milk-Bone Brushing Chews Dental Dog Treat',\n",
       " 'Authority® Dental & DHA Rings Puppy Treats Parsley Mint - Gluten Free, Grain Free',\n",
       " 'Pedigree Dentastix Large Dog Sticks',\n",
       " 'Greenies Teenie Dog Dental Treats - Blueberry',\n",
       " 'Pedigree Dentastix Triple Action Small Dog Treats - Fresh',\n",
       " 'Milk-Bone Brushing Chew Mini Dental Dog Treats',\n",
       " 'Authority Dental & Multivitamin Large Dog Treats Parsley Mint - Gluten Free, Grain Free',\n",
       " 'Greenies Aging Care Dental Dog Treats, 27 oz',\n",
       " 'Authority® Dental & Multivitamin Medium Dog Treats Parsley Mint - Gluten Free, Grain Free',\n",
       " 'Authority Dental & Multivitamin Small Dog Treats Parsley Mint - Gluten Free, Grain Free',\n",
       " 'Greenies Regular Dog Dental Treats - Blueberry',\n",
       " 'Merrick® Fresh Kisses™ Double-Brush Large Dental Dog Treat - Mint Breath Strips',\n",
       " 'Blue Buffalo Dental Bones Large Dog Treats - Natural',\n",
       " 'WHIMZEES Brushzees Extra Small Dental Dog Treat - Natural, Grain Free',\n",
       " 'Greenies Petite Dental Dog Treats - Blueberry',\n",
       " 'Greenies Grain Free Teenie Dental Dog Treats',\n",
       " 'Pedigree Dentastix Dual Flavor Large Dental Dog Treats',\n",
       " 'Greenies Teenie Dental Dog Treats - Fresh',\n",
       " 'Merrick® Fresh Kisses™ Double-Brush Small Dental Dog Treat - Mint Breath Strips',\n",
       " 'WHIMZEES Brushzees Medium Dental Dog Treat - Natural, Grain Free']"
      ]
     },
     "execution_count": 40,
     "metadata": {},
     "output_type": "execute_result"
    }
   ],
   "source": [
    "#Iterate through and get all of the treat names\n",
    "all_treats = []\n",
    "for h3 in save20_res:\n",
    "    name1 = h3.find('div', attrs={'class': 'product-name'})\n",
    "    treat = name1.find('h3', attrs={}).text\n",
    "    all_treats.append(treat)\n",
    "all_treats"
   ]
  },
  {
   "cell_type": "code",
   "execution_count": 41,
   "metadata": {},
   "outputs": [
    {
     "data": {
      "text/html": [
       "<div>\n",
       "<style scoped>\n",
       "    .dataframe tbody tr th:only-of-type {\n",
       "        vertical-align: middle;\n",
       "    }\n",
       "\n",
       "    .dataframe tbody tr th {\n",
       "        vertical-align: top;\n",
       "    }\n",
       "\n",
       "    .dataframe thead th {\n",
       "        text-align: right;\n",
       "    }\n",
       "</style>\n",
       "<table border=\"1\" class=\"dataframe\">\n",
       "  <thead>\n",
       "    <tr style=\"text-align: right;\">\n",
       "      <th></th>\n",
       "      <th>0</th>\n",
       "    </tr>\n",
       "  </thead>\n",
       "  <tbody>\n",
       "    <tr>\n",
       "      <td>0</td>\n",
       "      <td>Greenies Regular Dental Dog Treats</td>\n",
       "    </tr>\n",
       "    <tr>\n",
       "      <td>1</td>\n",
       "      <td>Greenies Petite Dental Dog Treats</td>\n",
       "    </tr>\n",
       "    <tr>\n",
       "      <td>2</td>\n",
       "      <td>Greenies Large Dental Dog Treats</td>\n",
       "    </tr>\n",
       "    <tr>\n",
       "      <td>3</td>\n",
       "      <td>Pedigree Dentastix Large Dog Treats</td>\n",
       "    </tr>\n",
       "    <tr>\n",
       "      <td>4</td>\n",
       "      <td>Greenies 6 Month+ Puppy Petite Dental Dog Treats</td>\n",
       "    </tr>\n",
       "  </tbody>\n",
       "</table>\n",
       "</div>"
      ],
      "text/plain": [
       "                                                  0\n",
       "0                Greenies Regular Dental Dog Treats\n",
       "1                 Greenies Petite Dental Dog Treats\n",
       "2                  Greenies Large Dental Dog Treats\n",
       "3               Pedigree Dentastix Large Dog Treats\n",
       "4  Greenies 6 Month+ Puppy Petite Dental Dog Treats"
      ]
     },
     "execution_count": 41,
     "metadata": {},
     "output_type": "execute_result"
    }
   ],
   "source": [
    "# load the data into a dataframe file\n",
    "df = pd.DataFrame(all_treats)\n",
    "df.head()"
   ]
  },
  {
   "cell_type": "code",
   "execution_count": 42,
   "metadata": {},
   "outputs": [],
   "source": [
    "# save the data as a csv file\n",
    "df.to_csv('part1.csv', index=False)"
   ]
  },
  {
   "cell_type": "markdown",
   "metadata": {},
   "source": [
    "# Part 2\n",
    "\n",
    "load in the csv file located in the `data` folder called `part2.csv`\n",
    "\n",
    "create a function that calculates the zscores of an array\n",
    "\n",
    "then calculate the zscores for each column in part2.csv and add them as columns\n",
    "\n",
    "See below for final result\n",
    "\n",
    "<img src=\"solutions/images/part2_df_preview.png\"/>"
   ]
  },
  {
   "cell_type": "code",
   "execution_count": 3,
   "metadata": {},
   "outputs": [
    {
     "data": {
      "text/html": [
       "<div>\n",
       "<style scoped>\n",
       "    .dataframe tbody tr th:only-of-type {\n",
       "        vertical-align: middle;\n",
       "    }\n",
       "\n",
       "    .dataframe tbody tr th {\n",
       "        vertical-align: top;\n",
       "    }\n",
       "\n",
       "    .dataframe thead th {\n",
       "        text-align: right;\n",
       "    }\n",
       "</style>\n",
       "<table border=\"1\" class=\"dataframe\">\n",
       "  <thead>\n",
       "    <tr style=\"text-align: right;\">\n",
       "      <th></th>\n",
       "      <th>salaries</th>\n",
       "      <th>NPS Score</th>\n",
       "      <th>eventOutcome</th>\n",
       "    </tr>\n",
       "  </thead>\n",
       "  <tbody>\n",
       "    <tr>\n",
       "      <td>0</td>\n",
       "      <td>44112.0</td>\n",
       "      <td>-7.0</td>\n",
       "      <td>1</td>\n",
       "    </tr>\n",
       "    <tr>\n",
       "      <td>1</td>\n",
       "      <td>46777.0</td>\n",
       "      <td>-12.0</td>\n",
       "      <td>2</td>\n",
       "    </tr>\n",
       "    <tr>\n",
       "      <td>2</td>\n",
       "      <td>50013.0</td>\n",
       "      <td>50.0</td>\n",
       "      <td>5</td>\n",
       "    </tr>\n",
       "    <tr>\n",
       "      <td>3</td>\n",
       "      <td>48983.0</td>\n",
       "      <td>-13.0</td>\n",
       "      <td>0</td>\n",
       "    </tr>\n",
       "    <tr>\n",
       "      <td>4</td>\n",
       "      <td>50751.0</td>\n",
       "      <td>-11.0</td>\n",
       "      <td>6</td>\n",
       "    </tr>\n",
       "  </tbody>\n",
       "</table>\n",
       "</div>"
      ],
      "text/plain": [
       "   salaries  NPS Score  eventOutcome\n",
       "0   44112.0       -7.0             1\n",
       "1   46777.0      -12.0             2\n",
       "2   50013.0       50.0             5\n",
       "3   48983.0      -13.0             0\n",
       "4   50751.0      -11.0             6"
      ]
     },
     "execution_count": 3,
     "metadata": {},
     "output_type": "execute_result"
    }
   ],
   "source": [
    "data = pd.read_csv('data/part2.csv')\n",
    "df = pd.DataFrame(data)\n",
    "df.head()\n"
   ]
  },
  {
   "cell_type": "code",
   "execution_count": 4,
   "metadata": {},
   "outputs": [
    {
     "data": {
      "text/plain": [
       "Index(['salaries', 'NPS Score', 'eventOutcome'], dtype='object')"
      ]
     },
     "execution_count": 4,
     "metadata": {},
     "output_type": "execute_result"
    }
   ],
   "source": [
    "columns = df.columns\n",
    "columns"
   ]
  },
  {
   "cell_type": "code",
   "execution_count": 5,
   "metadata": {},
   "outputs": [
    {
     "data": {
      "text/plain": [
       "(5000, 3)"
      ]
     },
     "execution_count": 5,
     "metadata": {},
     "output_type": "execute_result"
    }
   ],
   "source": [
    "df.shape"
   ]
  },
  {
   "cell_type": "code",
   "execution_count": 6,
   "metadata": {},
   "outputs": [],
   "source": [
    "# create a function that calculates the zscores of an array\n",
    "def find_score(column):\n",
    "    array = np.array(column)\n",
    "    mean = np.mean(array)\n",
    "    sigma = np.std(array)\n",
    "    d = np.random.normal(mean, sigma, 5000)\n",
    "    z_score = [(x - d.mean())/d.std() for x in d]\n",
    "    return z_score\n",
    "    "
   ]
  },
  {
   "cell_type": "code",
   "execution_count": 7,
   "metadata": {},
   "outputs": [
    {
     "data": {
      "text/html": [
       "<div>\n",
       "<style scoped>\n",
       "    .dataframe tbody tr th:only-of-type {\n",
       "        vertical-align: middle;\n",
       "    }\n",
       "\n",
       "    .dataframe tbody tr th {\n",
       "        vertical-align: top;\n",
       "    }\n",
       "\n",
       "    .dataframe thead th {\n",
       "        text-align: right;\n",
       "    }\n",
       "</style>\n",
       "<table border=\"1\" class=\"dataframe\">\n",
       "  <thead>\n",
       "    <tr style=\"text-align: right;\">\n",
       "      <th></th>\n",
       "      <th>salaries</th>\n",
       "      <th>NPS Score</th>\n",
       "      <th>eventOutcome</th>\n",
       "      <th>salaries_zscores</th>\n",
       "      <th>NPS Score_zscores</th>\n",
       "      <th>eventOutcome_zscores</th>\n",
       "    </tr>\n",
       "  </thead>\n",
       "  <tbody>\n",
       "    <tr>\n",
       "      <td>0</td>\n",
       "      <td>44112.0</td>\n",
       "      <td>-7.0</td>\n",
       "      <td>1</td>\n",
       "      <td>1.946260</td>\n",
       "      <td>-1.101683</td>\n",
       "      <td>-1.067729</td>\n",
       "    </tr>\n",
       "    <tr>\n",
       "      <td>1</td>\n",
       "      <td>46777.0</td>\n",
       "      <td>-12.0</td>\n",
       "      <td>2</td>\n",
       "      <td>-1.636270</td>\n",
       "      <td>-0.522173</td>\n",
       "      <td>-0.250717</td>\n",
       "    </tr>\n",
       "    <tr>\n",
       "      <td>2</td>\n",
       "      <td>50013.0</td>\n",
       "      <td>50.0</td>\n",
       "      <td>5</td>\n",
       "      <td>-0.977261</td>\n",
       "      <td>-0.139001</td>\n",
       "      <td>-0.273644</td>\n",
       "    </tr>\n",
       "    <tr>\n",
       "      <td>3</td>\n",
       "      <td>48983.0</td>\n",
       "      <td>-13.0</td>\n",
       "      <td>0</td>\n",
       "      <td>-0.949301</td>\n",
       "      <td>1.651734</td>\n",
       "      <td>2.795559</td>\n",
       "    </tr>\n",
       "    <tr>\n",
       "      <td>4</td>\n",
       "      <td>50751.0</td>\n",
       "      <td>-11.0</td>\n",
       "      <td>6</td>\n",
       "      <td>0.786627</td>\n",
       "      <td>-0.459809</td>\n",
       "      <td>-0.441297</td>\n",
       "    </tr>\n",
       "  </tbody>\n",
       "</table>\n",
       "</div>"
      ],
      "text/plain": [
       "   salaries  NPS Score  eventOutcome  salaries_zscores  NPS Score_zscores  \\\n",
       "0   44112.0       -7.0             1          1.946260          -1.101683   \n",
       "1   46777.0      -12.0             2         -1.636270          -0.522173   \n",
       "2   50013.0       50.0             5         -0.977261          -0.139001   \n",
       "3   48983.0      -13.0             0         -0.949301           1.651734   \n",
       "4   50751.0      -11.0             6          0.786627          -0.459809   \n",
       "\n",
       "   eventOutcome_zscores  \n",
       "0             -1.067729  \n",
       "1             -0.250717  \n",
       "2             -0.273644  \n",
       "3              2.795559  \n",
       "4             -0.441297  "
      ]
     },
     "execution_count": 7,
     "metadata": {},
     "output_type": "execute_result"
    }
   ],
   "source": [
    "# calculate the zscore for each column and store them as a new column with the names used above\n",
    "#salaries_zscores\n",
    "salaries = df.salaries\n",
    "salaries_zscores = find_score(salaries)\n",
    "df['salaries_zscores'] = salaries_zscores\n",
    "\n",
    "#NPS Score Zcores\n",
    "nps_score = df['NPS Score']\n",
    "nps_zscores = find_score(nps_score)\n",
    "df['NPS Score_zscores'] = nps_zscores\n",
    "\n",
    "#Event Outcome Zcores\n",
    "eventOutcome = df['eventOutcome']\n",
    "eventOutcome_zscores = find_score(eventOutcome)\n",
    "df['eventOutcome_zscores'] = eventOutcome_zscores\n",
    "\n",
    "df.head()\n",
    "\n"
   ]
  },
  {
   "cell_type": "markdown",
   "metadata": {},
   "source": [
    "# Part 3 \n",
    "plot 'salaries' and 'NPS Score' on a subplot (1 row 2 columns) \n",
    "then repeat this for the zscores\n",
    "\n",
    "see image below for reference\n",
    "<img src=\"solutions/images/part2-plots.png\"/>"
   ]
  },
  {
   "cell_type": "code",
   "execution_count": 24,
   "metadata": {},
   "outputs": [
    {
     "data": {
      "image/png": "[encoded data removed]",
      "text/plain": [
       "<Figure size 864x288 with 2 Axes>"
      ]
     },
     "metadata": {
      "needs_background": "light"
     },
     "output_type": "display_data"
    }
   ],
   "source": [
    "# plot for raw salaries and NPS Score data goes here\n",
    "\n",
    "new_figure = plt.figure(figsize=(12,4))\n",
    "\n",
    "ax = new_figure.add_subplot(121)\n",
    "ax2 = new_figure.add_subplot(122)\n",
    "\n",
    "ax.hist(df.salaries)\n",
    "ax2.hist(df['NPS Score'])\n",
    "\n",
    "ax.set_title('Salaries')\n",
    "ax2.set_title('NPS Scores')\n",
    "\n",
    "ax.set_ylabel('Frequency')\n",
    "ax.set_xlabel('Salaries')\n",
    "ax2.set_ylabel('Frequency')\n",
    "ax2.set_xlabel('NPS Scores')\n",
    "\n",
    "\n",
    "plt.show()"
   ]
  },
  {
   "cell_type": "code",
   "execution_count": 25,
   "metadata": {},
   "outputs": [
    {
     "data": {
      "image/png": "[encoded data removed]",
      "text/plain": [
       "<Figure size 864x288 with 2 Axes>"
      ]
     },
     "metadata": {
      "needs_background": "light"
     },
     "output_type": "display_data"
    }
   ],
   "source": [
    "# plot for zscores for salaries and NPS Score data goes here\n",
    "\n",
    "new_figure = plt.figure(figsize=(12,4))\n",
    "\n",
    "ax = new_figure.add_subplot(121)\n",
    "ax2 = new_figure.add_subplot(122)\n",
    "\n",
    "ax.hist(df['salaries_zscores'])\n",
    "ax2.hist(df['NPS Score_zscores'])\n",
    "\n",
    "ax.set_title('salaries_zscores')\n",
    "ax2.set_title('NPS Scores_zscores')\n",
    "\n",
    "ax.set_ylabel('Frequency')\n",
    "ax.set_xlabel('Salaries_zscores')\n",
    "ax2.set_ylabel('Frequency')\n",
    "ax2.set_xlabel('NPS Scores_zscores')\n",
    "\n",
    "\n",
    "plt.show()"
   ]
  },
  {
   "cell_type": "markdown",
   "metadata": {},
   "source": [
    "# Part 4 - PMF\n",
    "using the column 'eventOutcomes'\n",
    "\n",
    "create a PMF and plot the PMF as a bar chart\n",
    "\n",
    "See image below for referenc\n",
    "\n",
    "<img src=\"solutions/images/part4_pmf.png\"/>"
   ]
  },
  {
   "cell_type": "code",
   "execution_count": 42,
   "metadata": {},
   "outputs": [
    {
     "name": "stdout",
     "output_type": "stream",
     "text": [
      "Counter({4: 666, 7: 661, 3: 636, 0: 624, 6: 622, 1: 608, 2: 592, 5: 591})\n"
     ]
    }
   ],
   "source": [
    "import collections\n",
    "x = df['eventOutcome']\n",
    "counter = collections.Counter(x)\n",
    "print(counter)\n",
    "\n",
    "pmf = []\n",
    "for key, val in counter.items():\n",
    "    pmf.append(round(val/len(x), 2))\n",
    "    \n",
    "#print(counter.keys(), pmf)"
   ]
  },
  {
   "cell_type": "code",
   "execution_count": 43,
   "metadata": {},
   "outputs": [
    {
     "data": {
      "text/plain": [
       "Text(0.5, 0, 'Event Outcome')"
      ]
     },
     "execution_count": 43,
     "metadata": {},
     "output_type": "execute_result"
    },
    {
     "data": {
      "image/png": "[encoded data removed]",
      "text/plain": [
       "<Figure size 432x288 with 1 Axes>"
      ]
     },
     "metadata": {},
     "output_type": "display_data"
    }
   ],
   "source": [
    "#Plot\n",
    "plt.bar(counter.keys(), pmf)\n",
    "plt.title('Event Outcome PMF')\n",
    "plt.ylabel('Probability')\n",
    "plt.xlabel('Event Outcome')"
   ]
  },
  {
   "cell_type": "markdown",
   "metadata": {},
   "source": [
    "# Part 5 - CDF\n",
    "plot the CDF of Event Outcomes as a scatter plot using the information above\n",
    "\n",
    "See image below for reference \n",
    "\n",
    "<img src=\"solutions/images/part5_cmf.png\"/>"
   ]
  },
  {
   "cell_type": "code",
   "execution_count": 38,
   "metadata": {},
   "outputs": [
    {
     "data": {
      "image/png": "[encoded data removed]",
      "text/plain": [
       "<Figure size 432x288 with 1 Axes>"
      ]
     },
     "metadata": {},
     "output_type": "display_data"
    }
   ],
   "source": [
    "cdf = stats.norm.cdf(df['eventOutcome'])\n",
    "plt.scatter(df['eventOutcome'], cdf)\n",
    "plt.title (\"Cumulative Distribution Function for Event Outcome\");\n",
    "plt.xlabel(\"Event Outcome\")\n",
    "plt.ylabel(\"P(E<=N)\")\n",
    "plt.yticks(np.linspace(0,1,num=7))\n",
    "plt.show()\n",
    "\n"
   ]
  },
  {
   "cell_type": "markdown",
   "metadata": {},
   "source": [
    "# Bonus:\n",
    "* using np.where find salaries with zscores <= -2.0\n",
    "\n",
    "* calculate the skewness and kurtosis for the NPS Score column"
   ]
  },
  {
   "cell_type": "code",
   "execution_count": 33,
   "metadata": {},
   "outputs": [
    {
     "data": {
      "text/plain": [
       "(array([  24,  115,  233,  253,  257,  273,  324,  331,  335,  347,  374,\n",
       "         390,  443,  533,  611,  615,  755,  863,  866,  921, 1008, 1025,\n",
       "        1029, 1121, 1211, 1334, 1336, 1433, 1498, 1505, 1525, 1573, 1583,\n",
       "        1699, 1724, 1778, 1936, 2044, 2053, 2087, 2133, 2138, 2264, 2301,\n",
       "        2339, 2387, 2470, 2501, 2563, 2649, 2661, 2668, 2684, 2739, 2745,\n",
       "        2752, 2801, 2826, 2880, 2891, 2899, 2911, 2948, 3008, 3044, 3056,\n",
       "        3127, 3274, 3313, 3335, 3367, 3390, 3475, 3496, 3520, 3532, 3541,\n",
       "        3542, 3742, 3787, 3834, 3848, 3893, 3962, 4068, 4146, 4193, 4216,\n",
       "        4220, 4264, 4278, 4431, 4481, 4501, 4612, 4639, 4640, 4656, 4673,\n",
       "        4715, 4736, 4776, 4801, 4833, 4843, 4861, 4934, 4936, 4977]),)"
      ]
     },
     "execution_count": 33,
     "metadata": {},
     "output_type": "execute_result"
    }
   ],
   "source": [
    "# find salaries with zscores <= 2.0 \n",
    "small_z = np.where(df['salaries_zscores'] <= -2.0)\n",
    "small_z"
   ]
  },
  {
   "cell_type": "code",
   "execution_count": 40,
   "metadata": {},
   "outputs": [
    {
     "name": "stdout",
     "output_type": "stream",
     "text": [
      "0.02450527688165856\n",
      "-0.04212714461681166\n"
     ]
    }
   ],
   "source": [
    "# calculate skewness and kurtosis of NPS Score column\n",
    "#Skewness\n",
    "nps_array = np.array(df['NPS Score'])\n",
    "nps_skew = stats.skew(nps_array)\n",
    "\n",
    "print(nps_skew)\n",
    "\n",
    "#Kurtosis\n",
    "nps_kurt = stats.kurtosis(nps_array)\n",
    "print(nps_kurt)"
   ]
  },
  {
   "cell_type": "markdown",
   "metadata": {},
   "source": [
    "# run the cell below to convert your notebook to a README for assessment"
   ]
  },
  {
   "cell_type": "code",
   "execution_count": 1,
   "metadata": {},
   "outputs": [
    {
     "name": "stdout",
     "output_type": "stream",
     "text": [
      "[NbConvertApp] Converting notebook assessment.ipynb to markdown\n",
      "[NbConvertApp] Support files will be in assessment_files/\n",
      "[NbConvertApp] Making directory assessment_files\n",
      "[NbConvertApp] Making directory assessment_files\n",
      "[NbConvertApp] Making directory assessment_files\n",
      "[NbConvertApp] Making directory assessment_files\n",
      "[NbConvertApp] Writing 12858 bytes to assessment.md\n"
     ]
    }
   ],
   "source": [
    "!jupyter nbconvert --to markdown assessment.ipynb && mv assessment.md README.md"
   ]
  },
  {
   "cell_type": "code",
   "execution_count": null,
   "metadata": {},
   "outputs": [],
   "source": []
  }
 ],
 "metadata": {
  "kernelspec": {
   "display_name": "learn-env",
   "language": "python",
   "name": "learn-env"
  },
  "language_info": {
   "codemirror_mode": {
    "name": "ipython",
    "version": 3
   },
   "file_extension": ".py",
   "mimetype": "text/x-python",
   "name": "python",
   "nbconvert_exporter": "python",
   "pygments_lexer": "ipython3",
   "version": "3.6.9"
  }
 },
 "nbformat": 4,
 "nbformat_minor": 2
}
